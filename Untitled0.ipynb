{
  "nbformat": 4,
  "nbformat_minor": 0,
  "metadata": {
    "colab": {
      "name": "Untitled0.ipynb",
      "provenance": [],
      "authorship_tag": "ABX9TyNjHX/c1HmVNP5VdVtH4U8Z",
      "include_colab_link": true
    },
    "kernelspec": {
      "name": "python3",
      "display_name": "Python 3"
    },
    "language_info": {
      "name": "python"
    }
  },
  "cells": [
    {
      "cell_type": "markdown",
      "metadata": {
        "id": "view-in-github",
        "colab_type": "text"
      },
      "source": [
        "<a href=\"https://colab.research.google.com/github/ShkarupyloMaksym/hakathon_INT20H/blob/main/Untitled0.ipynb\" target=\"_parent\"><img src=\"https://colab.research.google.com/assets/colab-badge.svg\" alt=\"Open In Colab\"/></a>"
      ]
    },
    {
      "cell_type": "code",
      "source": [
        "import pandas\n",
        "import sklearn"
      ],
      "metadata": {
        "id": "bbi5CnyUUCwl"
      },
      "execution_count": null,
      "outputs": []
    },
    {
      "cell_type": "code",
      "source": [
        "data = pandas.read_csv('train.csv')"
      ],
      "metadata": {
        "id": "mGEGuGzPUKCv"
      },
      "execution_count": null,
      "outputs": []
    },
    {
      "cell_type": "code",
      "source": [
        "data = data.drop(['Id','Week'], axis=1)"
      ],
      "metadata": {
        "id": "3sPVK6uKU6s9"
      },
      "execution_count": null,
      "outputs": []
    },
    {
      "cell_type": "code",
      "source": [
        "x = data\n",
        "for i in data.columns[data.isna().any()].tolist():\n",
        "  x[i] = x[i].fillna(x[i].median())"
      ],
      "metadata": {
        "id": "uXsz3dUcWJoB"
      },
      "execution_count": null,
      "outputs": []
    },
    {
      "cell_type": "code",
      "source": [
        "x, y = x.drop(['target'],axis=1), x['target']\n"
      ],
      "metadata": {
        "id": "Z4YuQOktcv_C"
      },
      "execution_count": null,
      "outputs": []
    },
    {
      "cell_type": "code",
      "source": [
        "from sklearn.preprocessing import StandardScaler\n",
        " \n",
        "# Initialise the Scaler\n",
        "scaler = StandardScaler()\n",
        " \n",
        "# To scale data\n",
        "scaler.fit(x)\n",
        "x = pandas.DataFrame(scaler.transform(x))"
      ],
      "metadata": {
        "id": "WOrLaZkpawdH"
      },
      "execution_count": null,
      "outputs": []
    },
    {
      "cell_type": "code",
      "source": [
        "from sklearn.model_selection import train_test_split\n",
        "\n",
        "test_x_train, test_x_test, test_y_train, test_y_test = train_test_split(x,y,test_size=0.2, random_state=0)"
      ],
      "metadata": {
        "id": "HGPxfcQcWQj3"
      },
      "execution_count": null,
      "outputs": []
    },
    {
      "cell_type": "code",
      "source": [
        "test_y_test.value_counts()"
      ],
      "metadata": {
        "colab": {
          "base_uri": "https://localhost:8080/"
        },
        "id": "6Sn02-5dWrNz",
        "outputId": "cb70032b-88be-45e2-b156-0622c8bb5b85"
      },
      "execution_count": null,
      "outputs": [
        {
          "output_type": "execute_result",
          "data": {
            "text/plain": [
              "0.0    5067\n",
              "1.0    1105\n",
              "Name: target, dtype: int64"
            ]
          },
          "metadata": {},
          "execution_count": 32
        }
      ]
    },
    {
      "cell_type": "code",
      "source": [
        "from sklearn import svm\n",
        "test_model = sklearn.svm.LinearSVC()\n",
        "test_model.fit(test_x_train,test_y_train)"
      ],
      "metadata": {
        "colab": {
          "base_uri": "https://localhost:8080/"
        },
        "id": "P7CFR4-XXlWo",
        "outputId": "56fe8fee-e3a7-4050-cec9-712d06387042"
      },
      "execution_count": null,
      "outputs": [
        {
          "output_type": "stream",
          "name": "stderr",
          "text": [
            "/usr/local/lib/python3.7/dist-packages/sklearn/svm/_base.py:1208: ConvergenceWarning: Liblinear failed to converge, increase the number of iterations.\n",
            "  ConvergenceWarning,\n"
          ]
        },
        {
          "output_type": "execute_result",
          "data": {
            "text/plain": [
              "LinearSVC()"
            ]
          },
          "metadata": {},
          "execution_count": 33
        }
      ]
    },
    {
      "cell_type": "code",
      "source": [
        "print(test_model.predict(test_x_test).sum())\n",
        "print(len(test_x_test))"
      ],
      "metadata": {
        "colab": {
          "base_uri": "https://localhost:8080/"
        },
        "id": "47qJeNkQaeAj",
        "outputId": "e472f6c1-a08d-4217-cb1e-c9b51ad3ca8a"
      },
      "execution_count": null,
      "outputs": [
        {
          "output_type": "stream",
          "name": "stdout",
          "text": [
            "955.0\n",
            "6172\n"
          ]
        }
      ]
    },
    {
      "cell_type": "code",
      "source": [
        "test_model.score(test_x_test,test_y_test)"
      ],
      "metadata": {
        "colab": {
          "base_uri": "https://localhost:8080/"
        },
        "id": "MEIqtVYtawBI",
        "outputId": "a6c2b62f-3963-4948-c9c0-55f72656b5a9"
      },
      "execution_count": null,
      "outputs": [
        {
          "output_type": "execute_result",
          "data": {
            "text/plain": [
              "0.8642255346727155"
            ]
          },
          "metadata": {},
          "execution_count": 35
        }
      ]
    },
    {
      "cell_type": "code",
      "source": [
        "model = sklearn.svm.LinearSVC()\n",
        "model.fit(x,y)"
      ],
      "metadata": {
        "colab": {
          "base_uri": "https://localhost:8080/"
        },
        "id": "tpb-6-cqahmY",
        "outputId": "5edbff31-665d-46ec-db14-d87fb3e9cbc5"
      },
      "execution_count": null,
      "outputs": [
        {
          "output_type": "stream",
          "name": "stderr",
          "text": [
            "/usr/local/lib/python3.7/dist-packages/sklearn/svm/_base.py:1208: ConvergenceWarning: Liblinear failed to converge, increase the number of iterations.\n",
            "  ConvergenceWarning,\n"
          ]
        },
        {
          "output_type": "execute_result",
          "data": {
            "text/plain": [
              "LinearSVC()"
            ]
          },
          "metadata": {},
          "execution_count": 36
        }
      ]
    },
    {
      "cell_type": "code",
      "source": [
        "def return_1_or_0(list_of_numbers):\n",
        "  averrange = sum(list_of_numbers)/len(list_of_numbers)\n",
        "  if averrange>0.5:\n",
        "    return 1.0\n",
        "  else:\n",
        "    return 0.0"
      ],
      "metadata": {
        "id": "U3XjGKpad5O3"
      },
      "execution_count": null,
      "outputs": []
    },
    {
      "cell_type": "code",
      "source": [
        "main_test_data = pandas.read_csv('test.csv')\n"
      ],
      "metadata": {
        "id": "YccLuqTTeyQk"
      },
      "execution_count": null,
      "outputs": []
    },
    {
      "cell_type": "code",
      "source": [
        "id_list = [i for i in main_test_data['Id']]"
      ],
      "metadata": {
        "id": "F8yoNa1JfYZW"
      },
      "execution_count": null,
      "outputs": []
    },
    {
      "cell_type": "code",
      "source": [
        "id_list = [id_list[i*4] for i in range(int(len(id_list)/4))]"
      ],
      "metadata": {
        "id": "l45zE5KPgps-"
      },
      "execution_count": null,
      "outputs": []
    },
    {
      "cell_type": "code",
      "source": [
        "main_test_data = main_test_data.drop(['Id','Week'], axis=1)"
      ],
      "metadata": {
        "id": "WfmWSC7Fg32Y"
      },
      "execution_count": null,
      "outputs": []
    },
    {
      "cell_type": "code",
      "source": [
        "for i in main_test_data:\n",
        "  main_test_data[i] = main_test_data[i].fillna(main_test_data[i].median())"
      ],
      "metadata": {
        "id": "pyNgDk5FhC89"
      },
      "execution_count": null,
      "outputs": []
    },
    {
      "cell_type": "code",
      "source": [
        "main_test_data = pandas.DataFrame(scaler.transform(main_test_data))"
      ],
      "metadata": {
        "id": "dM4N6d79pyWz"
      },
      "execution_count": null,
      "outputs": []
    },
    {
      "cell_type": "code",
      "source": [
        "list_of_predicts = []\n",
        "for i in range(int(len(main_test_data)/4)):\n",
        "  j=i*4\n",
        "  list_of_predicts.append(model.predict(main_test_data.values[j:j+4]))"
      ],
      "metadata": {
        "id": "eKWJp9pChJLW"
      },
      "execution_count": null,
      "outputs": []
    },
    {
      "cell_type": "code",
      "source": [
        "list_of_predicts = [return_1_or_0(i) for i in list_of_predicts]"
      ],
      "metadata": {
        "id": "RgrIkHHsk6lH"
      },
      "execution_count": null,
      "outputs": []
    },
    {
      "cell_type": "code",
      "source": [
        "result_test_data = pandas.DataFrame({'id': id_list,\n",
        "                                     'Predicted': list_of_predicts})"
      ],
      "metadata": {
        "id": "Ga1KuBWClOYh"
      },
      "execution_count": null,
      "outputs": []
    },
    {
      "cell_type": "code",
      "source": [
        "result_test_data.to_csv('result.csv',index=False)"
      ],
      "metadata": {
        "id": "CY35FNF1mBep"
      },
      "execution_count": null,
      "outputs": []
    },
    {
      "cell_type": "code",
      "source": [
        "sum(list_of_predicts)"
      ],
      "metadata": {
        "colab": {
          "base_uri": "https://localhost:8080/"
        },
        "id": "qvMxLQdmvgQw",
        "outputId": "fd6e57fa-484c-4498-f6de-ca73d0fcc7d5"
      },
      "execution_count": null,
      "outputs": [
        {
          "output_type": "execute_result",
          "data": {
            "text/plain": [
              "334.0"
            ]
          },
          "metadata": {},
          "execution_count": 48
        }
      ]
    }
  ]
}
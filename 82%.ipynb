{
  "nbformat": 4,
  "nbformat_minor": 0,
  "metadata": {
    "colab": {
      "name": "Копия блокнота \"Untitled0.ipynb\"",
      "provenance": [],
      "authorship_tag": "ABX9TyPmJmJxvrhFWyhMUogAslFK",
      "include_colab_link": true
    },
    "kernelspec": {
      "name": "python3",
      "display_name": "Python 3"
    },
    "language_info": {
      "name": "python"
    }
  },
  "cells": [
    {
      "cell_type": "markdown",
      "metadata": {
        "id": "view-in-github",
        "colab_type": "text"
      },
      "source": [
        "<a href=\"https://colab.research.google.com/github/ShkarupyloMaksym/hakathon_INT20H/blob/main/82%25.ipynb\" target=\"_parent\"><img src=\"https://colab.research.google.com/assets/colab-badge.svg\" alt=\"Open In Colab\"/></a>"
      ]
    },
    {
      "cell_type": "code",
      "source": [
        "import pandas\n",
        "import sklearn"
      ],
      "metadata": {
        "id": "bbi5CnyUUCwl"
      },
      "execution_count": null,
      "outputs": []
    },
    {
      "cell_type": "code",
      "source": [
        "data = pandas.read_csv('train.csv')"
      ],
      "metadata": {
        "id": "mGEGuGzPUKCv"
      },
      "execution_count": null,
      "outputs": []
    },
    {
      "cell_type": "code",
      "source": [
        "data = data.drop(['Id','Week'], axis=1)"
      ],
      "metadata": {
        "id": "3sPVK6uKU6s9"
      },
      "execution_count": null,
      "outputs": []
    },
    {
      "cell_type": "code",
      "source": [
        "x = data\n",
        "for i in data.columns[data.isna().any()].tolist():\n",
        "  x[i] = x[i].fillna(x[i].median())"
      ],
      "metadata": {
        "id": "uXsz3dUcWJoB"
      },
      "execution_count": null,
      "outputs": []
    },
    {
      "cell_type": "code",
      "source": [
        "x, y = x.drop(['target'],axis=1), x['target']\n"
      ],
      "metadata": {
        "id": "Z4YuQOktcv_C"
      },
      "execution_count": null,
      "outputs": []
    },
    {
      "cell_type": "code",
      "source": [
        "from sklearn.preprocessing import StandardScaler\n",
        " \n",
        "# Initialise the Scaler\n",
        "scaler = StandardScaler()\n",
        " \n",
        "# To scale data\n",
        "scaler.fit(x)\n",
        "x = pandas.DataFrame(scaler.transform(x))"
      ],
      "metadata": {
        "id": "WOrLaZkpawdH"
      },
      "execution_count": null,
      "outputs": []
    },
    {
      "cell_type": "code",
      "source": [
        "model = XGBClassifier()\n",
        "model.fit(x, y)"
      ],
      "metadata": {
        "colab": {
          "base_uri": "https://localhost:8080/"
        },
        "id": "tpb-6-cqahmY",
        "outputId": "2528ce08-34d0-40ee-e37c-1952f8b45544"
      },
      "execution_count": null,
      "outputs": [
        {
          "output_type": "execute_result",
          "data": {
            "text/plain": [
              "XGBClassifier()"
            ]
          },
          "metadata": {},
          "execution_count": 141
        }
      ]
    },
    {
      "cell_type": "code",
      "source": [
        "def return_1_or_0(list_of_numbers):\n",
        "  # aver = sum(list_of_numbers)/len(list_of_numbers)\n",
        "  # if aver>=0.5:\n",
        "  #   return 1.0\n",
        "  # else:\n",
        "  #   return 0.0\n",
        "  if 1 in list_of_numbers:\n",
        "    return 1.0\n",
        "  else:\n",
        "    return 0.0"
      ],
      "metadata": {
        "id": "U3XjGKpad5O3"
      },
      "execution_count": null,
      "outputs": []
    },
    {
      "cell_type": "code",
      "source": [
        "main_test_data = pandas.read_csv('test.csv')\n"
      ],
      "metadata": {
        "id": "YccLuqTTeyQk"
      },
      "execution_count": null,
      "outputs": []
    },
    {
      "cell_type": "code",
      "source": [
        "id_list = [i for i in main_test_data['Id']]"
      ],
      "metadata": {
        "id": "F8yoNa1JfYZW"
      },
      "execution_count": null,
      "outputs": []
    },
    {
      "cell_type": "code",
      "source": [
        "id_list = [id_list[i*4] for i in range(int(len(id_list)/4))]"
      ],
      "metadata": {
        "id": "l45zE5KPgps-"
      },
      "execution_count": null,
      "outputs": []
    },
    {
      "cell_type": "code",
      "source": [
        "main_test_data = main_test_data.drop(['Id','Week'], axis=1)"
      ],
      "metadata": {
        "id": "WfmWSC7Fg32Y"
      },
      "execution_count": null,
      "outputs": []
    },
    {
      "cell_type": "code",
      "source": [
        "for i in main_test_data:\n",
        "  main_test_data[i] = main_test_data[i].fillna(main_test_data[i].median())"
      ],
      "metadata": {
        "id": "pyNgDk5FhC89"
      },
      "execution_count": null,
      "outputs": []
    },
    {
      "cell_type": "code",
      "source": [
        "main_test_data = pandas.DataFrame(scaler.transform(main_test_data))"
      ],
      "metadata": {
        "id": "dM4N6d79pyWz"
      },
      "execution_count": null,
      "outputs": []
    },
    {
      "cell_type": "code",
      "source": [
        "list_of_predicts = []\n",
        "for i in range(int(len(main_test_data)/4)):\n",
        "  j=i*4\n",
        "  list_of_predicts.append(model.predict(main_test_data[j:j+4]))"
      ],
      "metadata": {
        "id": "eKWJp9pChJLW"
      },
      "execution_count": null,
      "outputs": []
    },
    {
      "cell_type": "code",
      "source": [
        "list_of_predicts = [return_1_or_0(i) for i in list_of_predicts]"
      ],
      "metadata": {
        "id": "RgrIkHHsk6lH"
      },
      "execution_count": null,
      "outputs": []
    },
    {
      "cell_type": "code",
      "source": [
        "result_test_data = pandas.DataFrame({'id': id_list,\n",
        "                                     'Predicted': list_of_predicts})"
      ],
      "metadata": {
        "id": "Ga1KuBWClOYh"
      },
      "execution_count": null,
      "outputs": []
    },
    {
      "cell_type": "code",
      "source": [
        "result_test_data.to_csv('result.csv',index=False)"
      ],
      "metadata": {
        "id": "CY35FNF1mBep"
      },
      "execution_count": null,
      "outputs": []
    }
  ]
}